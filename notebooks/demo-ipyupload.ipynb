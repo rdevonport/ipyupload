{
 "cells": [
  {
   "cell_type": "code",
   "execution_count": 1,
   "metadata": {},
   "outputs": [],
   "source": [
    "%load_ext autoreload\n",
    "%autoreload 2"
   ]
  },
  {
   "cell_type": "code",
   "execution_count": 2,
   "metadata": {},
   "outputs": [],
   "source": [
    "from ipyupload import FileUpload"
   ]
  },
  {
   "cell_type": "code",
   "execution_count": 3,
   "metadata": {
    "scrolled": false
   },
   "outputs": [
    {
     "data": {
      "application/vnd.jupyter.widget-view+json": {
       "model_id": "54156bfa5fbd4cc78d937d2c8aea623a",
       "version_major": 2,
       "version_minor": 0
      },
      "text/plain": [
       "FileUpload(multiple=True, style_button='color: darkblue; background-color: lightsalmon; width: 180px;')"
      ]
     },
     "metadata": {},
     "output_type": "display_data"
    }
   ],
   "source": [
    "w = FileUpload(accept=None,\n",
    "               multiple=True, \n",
    "               disabled=False,\n",
    "               style_button='color: darkblue; background-color: lightsalmon; width: 180px;'\n",
    "              )\n",
    "w"
   ]
  },
  {
   "cell_type": "markdown",
   "metadata": {},
   "source": [
    "### Browse in test-zone\n",
    "Files available:\n",
    "+ toto.txt, titi.txt\n",
    "+ lena.png file\n",
    "+ sample.xlsx file"
   ]
  },
  {
   "cell_type": "code",
   "execution_count": 4,
   "metadata": {},
   "outputs": [
    {
     "data": {
      "text/plain": [
       "{'titi.txt': {'metadata': {'name': 'titi.txt',\n",
       "   'type': 'text/plain',\n",
       "   'size': 65,\n",
       "   'lastModified': 1540770379000,\n",
       "   'lastModifiedDate': '2018-10-28T23:46:19.000Z'},\n",
       "  'content': b'azerty azerty azerty azerty \\nazerty azerty \\n\\nazerty qwerty\\n\\nOOOAA'},\n",
       " 'toto.txt': {'metadata': {'name': 'toto.txt',\n",
       "   'type': 'text/plain',\n",
       "   'size': 71,\n",
       "   'lastModified': 1540770379000,\n",
       "   'lastModifiedDate': '2018-10-28T23:46:19.000Z'},\n",
       "  'content': b'This is a test sentence.\\nRepeat.\\nThis is a test sentence.\\nOk ?\\n\\nAH Ok\\n\\n'}}"
      ]
     },
     "execution_count": 4,
     "metadata": {},
     "output_type": "execute_result"
    }
   ],
   "source": [
    "w.value"
   ]
  },
  {
   "cell_type": "code",
   "execution_count": null,
   "metadata": {},
   "outputs": [],
   "source": [
    "w.accept = '.txt'"
   ]
  },
  {
   "cell_type": "code",
   "execution_count": null,
   "metadata": {},
   "outputs": [],
   "source": [
    "w.multiple = False"
   ]
  },
  {
   "cell_type": "code",
   "execution_count": null,
   "metadata": {},
   "outputs": [],
   "source": [
    "w.disabled = True"
   ]
  },
  {
   "cell_type": "code",
   "execution_count": null,
   "metadata": {},
   "outputs": [],
   "source": [
    "w.style_button = 'color: red; background-color: lightgray; width: 180px;'"
   ]
  },
  {
   "cell_type": "code",
   "execution_count": null,
   "metadata": {},
   "outputs": [],
   "source": []
  }
 ],
 "metadata": {
  "kernelspec": {
   "display_name": "upload",
   "language": "python",
   "name": "upload"
  },
  "language_info": {
   "codemirror_mode": {
    "name": "ipython",
    "version": 3
   },
   "file_extension": ".py",
   "mimetype": "text/x-python",
   "name": "python",
   "nbconvert_exporter": "python",
   "pygments_lexer": "ipython3",
   "version": "3.7.1"
  }
 },
 "nbformat": 4,
 "nbformat_minor": 2
}
