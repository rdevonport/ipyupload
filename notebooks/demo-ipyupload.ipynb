{
 "cells": [
  {
   "cell_type": "code",
   "execution_count": 1,
   "metadata": {},
   "outputs": [],
   "source": [
    "%load_ext autoreload\n",
    "%autoreload 2"
   ]
  },
  {
   "cell_type": "code",
   "execution_count": 2,
   "metadata": {},
   "outputs": [],
   "source": [
    "from ipyupload import FileUpload"
   ]
  },
  {
   "cell_type": "code",
   "execution_count": 3,
   "metadata": {
    "scrolled": false
   },
   "outputs": [
    {
     "data": {
      "application/vnd.jupyter.widget-view+json": {
       "model_id": "bccafbf839ba4673903c4f4f1159cf2f",
       "version_major": 2,
       "version_minor": 0
      },
      "text/plain": [
       "FileUpload(multiple=True)"
      ]
     },
     "metadata": {},
     "output_type": "display_data"
    }
   ],
   "source": [
    "fu = FileUpload(multiple=True)\n",
    "fu"
   ]
  },
  {
   "cell_type": "code",
   "execution_count": 5,
   "metadata": {},
   "outputs": [
    {
     "data": {
      "text/plain": [
       "[{'name': 'titi.txt',\n",
       "  'type': 'text/plain',\n",
       "  'size': 65,\n",
       "  'lastModified': 1540762324000,\n",
       "  'lastModifiedDate': '2018-10-28T21:32:04.000Z'},\n",
       " {'name': 'toto.txt',\n",
       "  'type': 'text/plain',\n",
       "  'size': 68,\n",
       "  'lastModified': 1540762817000,\n",
       "  'lastModifiedDate': '2018-10-28T21:40:17.000Z'}]"
      ]
     },
     "execution_count": 5,
     "metadata": {},
     "output_type": "execute_result"
    }
   ],
   "source": [
    "fu.li_metadata"
   ]
  },
  {
   "cell_type": "code",
   "execution_count": 6,
   "metadata": {},
   "outputs": [
    {
     "data": {
      "text/plain": [
       "[b'azerty azerty azerty azerty \\nazerty azerty \\n\\nazerty qwerty\\n\\nOOOAA',\n",
       " b'This is a test sentence.\\nRepeat.\\nThis is a test sentence.\\nOk ?\\n\\nOk\\n\\n']"
      ]
     },
     "execution_count": 6,
     "metadata": {},
     "output_type": "execute_result"
    }
   ],
   "source": [
    "fu.li_content"
   ]
  },
  {
   "cell_type": "code",
   "execution_count": 7,
   "metadata": {},
   "outputs": [
    {
     "data": {
      "text/plain": [
       "1"
      ]
     },
     "execution_count": 7,
     "metadata": {},
     "output_type": "execute_result"
    }
   ],
   "source": [
    "fu._counter"
   ]
  },
  {
   "cell_type": "code",
   "execution_count": 9,
   "metadata": {},
   "outputs": [
    {
     "data": {
      "text/plain": [
       "{'titi.txt': {'metadata': {'name': 'titi.txt',\n",
       "   'type': 'text/plain',\n",
       "   'size': 65,\n",
       "   'lastModified': 1540762324000,\n",
       "   'lastModifiedDate': '2018-10-28T21:32:04.000Z'},\n",
       "  'content': b'azerty azerty azerty azerty \\nazerty azerty \\n\\nazerty qwerty\\n\\nOOOAA'},\n",
       " 'toto.txt': {'metadata': {'name': 'toto.txt',\n",
       "   'type': 'text/plain',\n",
       "   'size': 71,\n",
       "   'lastModified': 1540763590000,\n",
       "   'lastModifiedDate': '2018-10-28T21:53:10.000Z'},\n",
       "  'content': b'This is a test sentence.\\nRepeat.\\nThis is a test sentence.\\nOk ?\\n\\nAH Ok\\n\\n'}}"
      ]
     },
     "execution_count": 9,
     "metadata": {},
     "output_type": "execute_result"
    }
   ],
   "source": [
    "fu.result"
   ]
  },
  {
   "cell_type": "code",
   "execution_count": null,
   "metadata": {},
   "outputs": [],
   "source": []
  },
  {
   "cell_type": "code",
   "execution_count": null,
   "metadata": {},
   "outputs": [],
   "source": []
  }
 ],
 "metadata": {
  "kernelspec": {
   "display_name": "Python 3",
   "language": "python",
   "name": "python3"
  },
  "language_info": {
   "codemirror_mode": {
    "name": "ipython",
    "version": 3
   },
   "file_extension": ".py",
   "mimetype": "text/x-python",
   "name": "python",
   "nbconvert_exporter": "python",
   "pygments_lexer": "ipython3",
   "version": "3.7.1"
  }
 },
 "nbformat": 4,
 "nbformat_minor": 2
}
